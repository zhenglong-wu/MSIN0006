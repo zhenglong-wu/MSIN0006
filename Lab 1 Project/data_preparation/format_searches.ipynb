{
 "cells": [
  {
   "cell_type": "code",
   "execution_count": 1,
   "metadata": {},
   "outputs": [
    {
     "data": {
      "text/plain": [
       "['/Users/zhenglongwu/Documents/GitHub/MSIN0006/Lab 1 Project/data_preparation/data/harrypotterwiki.csv',\n",
       " '/Users/zhenglongwu/Documents/GitHub/MSIN0006/Lab 1 Project/data_preparation/data/hogwartsishere.csv',\n",
       " '/Users/zhenglongwu/Documents/GitHub/MSIN0006/Lab 1 Project/data_preparation/data/jkrowling.csv',\n",
       " '/Users/zhenglongwu/Documents/GitHub/MSIN0006/Lab 1 Project/data_preparation/data/lexiconharrypotter.csv',\n",
       " '/Users/zhenglongwu/Documents/GitHub/MSIN0006/Lab 1 Project/data_preparation/data/mugglenet.csv',\n",
       " '/Users/zhenglongwu/Documents/GitHub/MSIN0006/Lab 1 Project/data_preparation/data/pottermore.csv',\n",
       " '/Users/zhenglongwu/Documents/GitHub/MSIN0006/Lab 1 Project/data_preparation/data/wizardingworld.csv']"
      ]
     },
     "execution_count": 1,
     "metadata": {},
     "output_type": "execute_result"
    }
   ],
   "source": [
    "import pandas as pd\n",
    "import os\n",
    "\n",
    "path_list = []\n",
    "\n",
    "with os.scandir('/Users/zhenglongwu/Documents/GitHub/MSIN0006/Lab 1 Project/data_preparation/data') as dir:\n",
    "    for entry in dir:\n",
    "        if entry.name.endswith(\".csv\") and entry.is_file():\n",
    "            path_list.append(entry.path)\n",
    "    path_list.sort()\n",
    "\n",
    "path_list"
   ]
  },
  {
   "cell_type": "code",
   "execution_count": 18,
   "metadata": {},
   "outputs": [],
   "source": [
    "data = pd.DataFrame()\n",
    "\n",
    "for path in path_list:\n",
    "    \n",
    "    if path == '/Users/zhenglongwu/Documents/GitHub/MSIN0006/Lab 1 Project/data_preparation/data/harrypotterwiki.csv':\n",
    "        data = pd.read_csv(path)\n",
    "    \n",
    "    new_df = pd.read_csv(path)\n",
    "    name = new_df.columns[1]\n",
    "    data[name] = new_df[name].values"
   ]
  }
 ],
 "metadata": {
  "kernelspec": {
   "display_name": ".venv",
   "language": "python",
   "name": "python3"
  },
  "language_info": {
   "codemirror_mode": {
    "name": "ipython",
    "version": 3
   },
   "file_extension": ".py",
   "mimetype": "text/x-python",
   "name": "python",
   "nbconvert_exporter": "python",
   "pygments_lexer": "ipython3",
   "version": "3.11.2"
  }
 },
 "nbformat": 4,
 "nbformat_minor": 2
}
