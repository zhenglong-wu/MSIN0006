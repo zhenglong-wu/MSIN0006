{
 "cells": [
  {
   "cell_type": "code",
   "execution_count": 1,
   "metadata": {},
   "outputs": [],
   "source": [
    "from sklearn import linear_model\n",
    "from sklearn.linear_model import LinearRegression\n",
    "from sklearn import metrics\n",
    "from sklearn.model_selection import train_test_split\n",
    "import pandas as pd\n",
    "import numpy as np\n",
    "\n",
    "data = pd.read_csv('raw_data.csv')"
   ]
  },
  {
   "cell_type": "code",
   "execution_count": 2,
   "metadata": {},
   "outputs": [],
   "source": [
    "X, y = data[['harrypotterwiki', 'hogwartsishere', 'jkrowling', 'harrypotterlexicon', 'mugglenet', 'wizardingworld']], data[['pottermore']]\n",
    "X_train, X_test, y_train, y_test = train_test_split(X, y, test_size = 0.8, random_state = 100)"
   ]
  },
  {
   "cell_type": "code",
   "execution_count": 3,
   "metadata": {},
   "outputs": [],
   "source": [
    "reg_model = linear_model.LinearRegression().fit(X_train, y_train)"
   ]
  },
  {
   "cell_type": "code",
   "execution_count": 4,
   "metadata": {},
   "outputs": [
    {
     "name": "stdout",
     "output_type": "stream",
     "text": [
      "Mean Absolute Error: 17.183195604730418\n",
      "Mean Absolute Percentage Error: 1.1785504109182832\n",
      "Mean Square Error: 425.3462122278077\n"
     ]
    }
   ],
   "source": [
    "y_pred= reg_model.predict(X_test)  \n",
    "x_pred= reg_model.predict(X_train)\n",
    "\n",
    "mae = metrics.mean_absolute_error(y_test, y_pred)\n",
    "mape = metrics.mean_absolute_percentage_error(y_test, y_pred)\n",
    "mse = metrics.mean_squared_error(y_test, y_pred)\n",
    "print('Mean Absolute Error:', mae)\n",
    "print('Mean Absolute Percentage Error:', mape)\n",
    "print('Mean Square Error:', mse)"
   ]
  },
  {
   "cell_type": "code",
   "execution_count": 5,
   "metadata": {},
   "outputs": [
    {
     "name": "stdout",
     "output_type": "stream",
     "text": [
      "Intercept:  [17.54886013]\n",
      "harrypotterwiki: -0.1732519835666518\n",
      "hogwartsishere: -0.026006443515529748\n",
      "jkrowling: 0.029119305118605967\n",
      "harrypotterlexicon: 0.10688512945126766\n",
      "mugglenet: -0.05485459018477699\n",
      "wizardingworld: 0.35897980502634536\n"
     ]
    }
   ],
   "source": [
    "print('Intercept: ',reg_model.intercept_)\n",
    "coef = {}\n",
    "for item in list(zip(X_train.columns.tolist(),reg_model.coef_[0])):\n",
    "    print(f'{item[0]}: {item[1]}')\n",
    "    coef[item[0]] = item[1]\n",
    "\n",
    "data['weighted_searches'] = (\n",
    "    data['harrypotterwiki'] * coef['harrypotterwiki'] +\n",
    "    data['hogwartsishere'] * coef['hogwartsishere'] +\n",
    "    data['jkrowling'] * coef['jkrowling'] +\n",
    "    data['harrypotterlexicon'] * coef['harrypotterlexicon'] +\n",
    "    data['mugglenet'] * coef['mugglenet'] +\n",
    "    data['wizardingworld'] * coef['wizardingworld'])"
   ]
  },
  {
   "cell_type": "code",
   "execution_count": 10,
   "metadata": {},
   "outputs": [
    {
     "data": {
      "text/html": [
       "<div>\n",
       "<style scoped>\n",
       "    .dataframe tbody tr th:only-of-type {\n",
       "        vertical-align: middle;\n",
       "    }\n",
       "\n",
       "    .dataframe tbody tr th {\n",
       "        vertical-align: top;\n",
       "    }\n",
       "\n",
       "    .dataframe thead th {\n",
       "        text-align: right;\n",
       "    }\n",
       "</style>\n",
       "<table border=\"1\" class=\"dataframe\">\n",
       "  <thead>\n",
       "    <tr style=\"text-align: right;\">\n",
       "      <th></th>\n",
       "      <th>pottermore</th>\n",
       "      <th>searches</th>\n",
       "    </tr>\n",
       "    <tr>\n",
       "      <th>date</th>\n",
       "      <th></th>\n",
       "      <th></th>\n",
       "    </tr>\n",
       "  </thead>\n",
       "  <tbody>\n",
       "    <tr>\n",
       "      <th>2016-01-01</th>\n",
       "      <td>10</td>\n",
       "      <td>5.743677</td>\n",
       "    </tr>\n",
       "    <tr>\n",
       "      <th>2016-01-02</th>\n",
       "      <td>11</td>\n",
       "      <td>11.287644</td>\n",
       "    </tr>\n",
       "    <tr>\n",
       "      <th>2016-01-03</th>\n",
       "      <td>10</td>\n",
       "      <td>9.034139</td>\n",
       "    </tr>\n",
       "    <tr>\n",
       "      <th>2016-01-04</th>\n",
       "      <td>8</td>\n",
       "      <td>2.337842</td>\n",
       "    </tr>\n",
       "    <tr>\n",
       "      <th>2016-01-05</th>\n",
       "      <td>8</td>\n",
       "      <td>1.214174</td>\n",
       "    </tr>\n",
       "  </tbody>\n",
       "</table>\n",
       "</div>"
      ],
      "text/plain": [
       "            pottermore   searches\n",
       "date                             \n",
       "2016-01-01          10   5.743677\n",
       "2016-01-02          11  11.287644\n",
       "2016-01-03          10   9.034139\n",
       "2016-01-04           8   2.337842\n",
       "2016-01-05           8   1.214174"
      ]
     },
     "execution_count": 10,
     "metadata": {},
     "output_type": "execute_result"
    }
   ],
   "source": [
    "new_data = pd.DataFrame(data['pottermore'])\n",
    "new_data['searches'] = data['weighted_searches']\n",
    "new_data['date'] = data['date']\n",
    "new_data.set_index(keys='date', inplace=True)\n",
    "new_data.head()"
   ]
  },
  {
   "cell_type": "code",
   "execution_count": 12,
   "metadata": {},
   "outputs": [],
   "source": [
    "new_data.to_csv('data.csv')"
   ]
  }
 ],
 "metadata": {
  "kernelspec": {
   "display_name": ".venv",
   "language": "python",
   "name": "python3"
  },
  "language_info": {
   "codemirror_mode": {
    "name": "ipython",
    "version": 3
   },
   "file_extension": ".py",
   "mimetype": "text/x-python",
   "name": "python",
   "nbconvert_exporter": "python",
   "pygments_lexer": "ipython3",
   "version": "3.11.2"
  }
 },
 "nbformat": 4,
 "nbformat_minor": 2
}
