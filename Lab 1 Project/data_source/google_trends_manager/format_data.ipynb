{
 "cells": [
  {
   "cell_type": "code",
   "execution_count": 2,
   "metadata": {},
   "outputs": [
    {
     "data": {
      "text/plain": [
       "['/Users/zhenglongwu/Documents/GitHub/MSIN0006/Lab 1 Project/data_source/google_trends_manager/wizarding_world_web/2015_q1q2.csv',\n",
       " '/Users/zhenglongwu/Documents/GitHub/MSIN0006/Lab 1 Project/data_source/google_trends_manager/wizarding_world_web/2015_q3q4.csv',\n",
       " '/Users/zhenglongwu/Documents/GitHub/MSIN0006/Lab 1 Project/data_source/google_trends_manager/wizarding_world_web/2016_q1q2.csv',\n",
       " '/Users/zhenglongwu/Documents/GitHub/MSIN0006/Lab 1 Project/data_source/google_trends_manager/wizarding_world_web/2016_q3q4.csv',\n",
       " '/Users/zhenglongwu/Documents/GitHub/MSIN0006/Lab 1 Project/data_source/google_trends_manager/wizarding_world_web/2017_q1q2.csv',\n",
       " '/Users/zhenglongwu/Documents/GitHub/MSIN0006/Lab 1 Project/data_source/google_trends_manager/wizarding_world_web/2017_q3q4.csv',\n",
       " '/Users/zhenglongwu/Documents/GitHub/MSIN0006/Lab 1 Project/data_source/google_trends_manager/wizarding_world_web/2018_q1q2.csv',\n",
       " '/Users/zhenglongwu/Documents/GitHub/MSIN0006/Lab 1 Project/data_source/google_trends_manager/wizarding_world_web/2018_q3q4.csv',\n",
       " '/Users/zhenglongwu/Documents/GitHub/MSIN0006/Lab 1 Project/data_source/google_trends_manager/wizarding_world_web/2019_q1q2.csv',\n",
       " '/Users/zhenglongwu/Documents/GitHub/MSIN0006/Lab 1 Project/data_source/google_trends_manager/wizarding_world_web/2019_q3q4.csv']"
      ]
     },
     "execution_count": 2,
     "metadata": {},
     "output_type": "execute_result"
    }
   ],
   "source": [
    "import pandas as pd\n",
    "import os\n",
    "\n",
    "\n",
    "path_list = []\n",
    "\n",
    "with os.scandir('/Users/zhenglongwu/Documents/GitHub/MSIN0006/Lab 1 Project/data_source/google_trends_manager/wizarding_world_web') as dir:\n",
    "    for entry in dir:\n",
    "        if entry.name.endswith(\".csv\") and entry.is_file():\n",
    "            path_list.append(entry.path)\n",
    "    path_list.sort()\n",
    "\n",
    "path_list"
   ]
  },
  {
   "cell_type": "code",
   "execution_count": 14,
   "metadata": {},
   "outputs": [],
   "source": [
    "data = pd.DataFrame()\n",
    "\n",
    "for path in path_list:\n",
    "    if path == '/Users/zhenglongwu/Documents/GitHub/MSIN0006/Lab 1 Project/data_source/google_trends_manager/wizarding_world_web/2015_q1q2.csv':\n",
    "         data = pd.read_csv(path)\n",
    "    else:\n",
    "        new_df = pd.read_csv(path)\n",
    "        data = pd.concat([data, new_df], axis=0)\n",
    "\n",
    "data.set_index(['Day'], inplace=True)\n",
    "data.to_csv('wizarding_world_search_data.csv')"
   ]
  }
 ],
 "metadata": {
  "kernelspec": {
   "display_name": ".venv",
   "language": "python",
   "name": "python3"
  },
  "language_info": {
   "codemirror_mode": {
    "name": "ipython",
    "version": 3
   },
   "file_extension": ".py",
   "mimetype": "text/x-python",
   "name": "python",
   "nbconvert_exporter": "python",
   "pygments_lexer": "ipython3",
   "version": "3.11.2"
  }
 },
 "nbformat": 4,
 "nbformat_minor": 2
}
