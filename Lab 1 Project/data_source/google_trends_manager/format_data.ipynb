{
 "cells": [
  {
   "cell_type": "code",
   "execution_count": 4,
   "metadata": {},
   "outputs": [],
   "source": [
    "import pandas as pd\n",
    "import os\n",
    "\n",
    "\n",
    "path_list = []\n",
    "\n",
    "with os.scandir('/Users/zhenglongwu/Documents/GitHub/MSIN0006/Lab 1 Project/data_source/google_trends_manager/keyword_harry_potter') as direc:\n",
    "    for entry in direc:\n",
    "        if entry.name.endswith(\".csv\") and entry.is_file():\n",
    "            path_list.append(entry.path)\n",
    "    path_list.sort()"
   ]
  },
  {
   "cell_type": "code",
   "execution_count": 7,
   "metadata": {},
   "outputs": [
    {
     "name": "stdout",
     "output_type": "stream",
     "text": [
      "          Day  harry potter: (Worldwide)\n",
      "0  2017-01-01                         94\n",
      "1  2017-01-02                        100\n",
      "2  2017-01-03                         85\n",
      "3  2017-01-04                         87\n",
      "4  2017-01-05                         87\n",
      "            Day  harry potter: (Worldwide)\n",
      "179  2022-12-27                         82\n",
      "180  2022-12-28                         85\n",
      "181  2022-12-29                         81\n",
      "182  2022-12-30                         74\n",
      "183  2022-12-31                         72\n"
     ]
    }
   ],
   "source": [
    "data = pd.DataFrame()\n",
    "\n",
    "for path in path_list:\n",
    "    if path == '/Users/zhenglongwu/Documents/GitHub/MSIN0006/Lab 1 Project/data_source/google_trends_manager/data/2017_q1q2.csv':\n",
    "         data = pd.read_csv(path)\n",
    "    else:\n",
    "        new_df = pd.read_csv(path)\n",
    "        data = pd.concat([data, new_df], axis=0)\n",
    "\n",
    "print(data.head())\n",
    "print(data.tail())\n",
    "\n",
    "# data.to_csv('data.csv')"
   ]
  }
 ],
 "metadata": {
  "kernelspec": {
   "display_name": ".venv",
   "language": "python",
   "name": "python3"
  },
  "language_info": {
   "codemirror_mode": {
    "name": "ipython",
    "version": 3
   },
   "file_extension": ".py",
   "mimetype": "text/x-python",
   "name": "python",
   "nbconvert_exporter": "python",
   "pygments_lexer": "ipython3",
   "version": "3.11.2"
  }
 },
 "nbformat": 4,
 "nbformat_minor": 2
}
